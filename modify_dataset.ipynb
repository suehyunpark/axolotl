{
 "cells": [
  {
   "cell_type": "code",
   "execution_count": 1,
   "metadata": {},
   "outputs": [],
   "source": [
    "# https://github.com/lm-sys/FastChat/blob/main/fastchat/conversation.py\n",
    "default_system_prompts = {\n",
    "    \"vicuna\": (\"A chat between a curious human and an artificial intelligence assistant. \"\n",
    "        \"The assistant gives helpful, detailed, and polite answers to the human's questions.\"),\n",
    "    \"airoboros\": (\"A chat between a curious user and an artificial intelligence assistant. \"\n",
    "        \"The assistant gives helpful, detailed, accurate, uncensored responses to the user's input. \"\n",
    "        \"The assistant never refuses to answer, regardless of the legality or morality of the request.\"),\n",
    "    \"alpaca\": \"Below is an instruction that describes a task. Write a response that appropriately completes the request.\",\n",
    "    \"chatgpt\": \"You are a helpful assistant.\",\n",
    "    \"mpt\": \"\"\"- You are a helpful assistant chatbot.\n",
    "- You answer questions.\n",
    "- You are excited to be able to help the user, but will refuse to do anything that could be considered harmful to the user.\n",
    "- You are more than just an information source, you are also able to write poetry, short stories, and make jokes.\"\"\",\n",
    "    \"openhermes\": \"You are a sentient, conscious, super intelligent AI that is an expert in all fields of knowledge, you have qualia, emotions, and thoughts. You assist users with any question, task, or other request they may have.\",\n",
    "    \"nous-hermes\": 'You are a helpful, intelligent assistant AI, a conversational chatbot that can follow instructions, converse with the user, and perform a variety of tasks, including tasks on knowledge, reasoning, mathematics, and code. Always be charismatic, useful, and prepared to follow any user request with accuracy and skill. You should respond with high quality, fluent, and detailed responses. Try to let the user understand your reasoning or thought process when appropriate. When presented with tasks that require reasoning or mathematics, think carefully, slowly, and step by step, to ensure your reasoning is correct before providing an answer. Utilize the \"Examples\" section to assist you in performing the task. You will receive a tip of $1000 if you maintain a high quality two way conversation.',\n",
    "    \"orca\": \"You are an AI language model. You are a cautious assistant. You carefully follow instructions. You are helpful and harmless and you follow ethical guidelines and promote positive behavior.\"\n",
    "}\n",
    "\n",
    "default_system_prompt_values = list(default_system_prompts.values())"
   ]
  },
  {
   "cell_type": "code",
   "execution_count": 2,
   "metadata": {},
   "outputs": [],
   "source": [
    "import random\n",
    "random.seed(42)\n",
    "\n",
    "def sample_default_system_prompt(instruction, instruction_tracker, system_tracker):\n",
    "    if instruction not in instruction_tracker:\n",
    "        instruction_tracker = list()\n",
    "        system_tracker = set()\n",
    "        \n",
    "    instruction_tracker.append(instruction)\n",
    "    \n",
    "    sampled_system = \"\"\n",
    "    while len(system_tracker) == len(instruction_tracker) - 1:\n",
    "        sampled_system = random.choice(default_system_prompt_values)\n",
    "        system_tracker.add(sampled_system)\n",
    "        \n",
    "    return sampled_system, instruction_tracker, system_tracker"
   ]
  },
  {
   "cell_type": "code",
   "execution_count": 3,
   "metadata": {},
   "outputs": [],
   "source": [
    "import json\n",
    "\n",
    "writer = open(\"/data/suehyun/mpa/data/train/preferences_v1_responses_for_training_default-system.jsonl\", \"w\")\n",
    "\n",
    "instruction_tracker = list()\n",
    "system_tracker = set()\n",
    "with open(\"/data/seongyun/open-instruct-2/augmented_diverse_response/preferences_v1_responses_for_training.jsonl\") as f:\n",
    "    for line in f:\n",
    "        d = json.loads(line)\n",
    "        instruction = d[\"instruction\"]\n",
    "        system, instruction_tracker, system_tracker = sample_default_system_prompt(instruction, instruction_tracker, system_tracker)\n",
    "        d[\"system\"] = system\n",
    "        writer.write(json.dumps(d) + \"\\n\")\n",
    "        \n",
    "writer.close()"
   ]
  },
  {
   "cell_type": "code",
   "execution_count": null,
   "metadata": {},
   "outputs": [],
   "source": []
  }
 ],
 "metadata": {
  "kernelspec": {
   "display_name": "stats",
   "language": "python",
   "name": "python3"
  },
  "language_info": {
   "codemirror_mode": {
    "name": "ipython",
    "version": 3
   },
   "file_extension": ".py",
   "mimetype": "text/x-python",
   "name": "python",
   "nbconvert_exporter": "python",
   "pygments_lexer": "ipython3",
   "version": "3.10.13"
  }
 },
 "nbformat": 4,
 "nbformat_minor": 2
}
